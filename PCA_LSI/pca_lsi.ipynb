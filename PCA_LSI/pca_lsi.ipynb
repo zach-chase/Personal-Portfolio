{
 "cells": [
  {
   "cell_type": "markdown",
   "metadata": {
    "id": "SrF8A_TGOz1D"
   },
   "source": [
    "<h1 align='center'><font size=10>PCA_LSI</h1>\n",
    "<h1 align='center'><font size=5>Zach Chase</h1>"
   ]
  },
  {
   "cell_type": "code",
   "execution_count": 1,
   "metadata": {
    "id": "XQJGiRmuOz1M"
   },
   "outputs": [],
   "source": [
    "import string\n",
    "import numpy as np\n",
    "from math import log\n",
    "from scipy import sparse\n",
    "from sklearn import datasets\n",
    "from scipy import linalg as la\n",
    "from collections import Counter\n",
    "from matplotlib import pyplot as plt\n",
    "from scipy.sparse import linalg as spla\n",
    "from sklearn.pipeline import Pipeline\n",
    "from sklearn.decomposition import PCA\n",
    "from sklearn.model_selection import GridSearchCV\n",
    "from sklearn.ensemble import RandomForestClassifier\n",
    "import os"
   ]
  },
  {
   "cell_type": "markdown",
   "metadata": {},
   "source": [
    "## PCA"
   ]
  },
  {
   "cell_type": "markdown",
   "metadata": {},
   "source": [
    "Principal Component Analysis (PCA) is a multivariate statistical tool used to orthogonally\n",
    "change the basis of a set of observations from the basis of original features (which may be correlated)\n",
    "into a basis of uncorrelated (in fact, orthonormal) variables called the principal components. It is a\n",
    "direct application of the singular value decomposition (SVD) from linear algebra. More specifically,\n",
    "the first principal component will account for the greatest variance in the set of observations, the\n",
    "second principal component will be orthogonal to the first, accounting for the second greatest variance\n",
    "in the set of observations, etc. The first several principal components capture most of the variance in\n",
    "the observation set, and hence provide a great deal of information about the data. By projecting the\n",
    "observations onto the space spanned by the principal components, we can reduce the dimensionality\n",
    "of the data in a manner that preserves most of the variance. [<sup>1</sup>](#fn1)"
   ]
  },
  {
   "cell_type": "markdown",
   "metadata": {},
   "source": [
    "### Implement PCA and use on Iris dataset "
   ]
  },
  {
   "cell_type": "code",
   "execution_count": 2,
   "metadata": {
    "id": "KQ-0uAF5Oz1O"
   },
   "outputs": [
    {
     "data": {
      "image/png": "[encoded data removed]",
      "text/plain": [
       "<Figure size 432x288 with 1 Axes>"
      ]
     },
     "metadata": {
      "needs_background": "light"
     },
     "output_type": "display_data"
    }
   ],
   "source": [
    "def iris_pca():\n",
    "    \"\"\"Function that calculates PCA and applies it to the Iris dataset to find the first 2 principal components.\"\"\"\n",
    "    \n",
    "    # Load Iris Dataset\n",
    "    X, Y = datasets.load_iris(return_X_y=True)\n",
    "\n",
    "    # Calculate min of X shape (# of features)\n",
    "    k = min(X.shape)\n",
    "    \n",
    "    # Convert data to mean 0\n",
    "    X = X - X.mean(axis = 0)\n",
    "    \n",
    "    # Calculate SVD of Data\n",
    "    U, Sig, V = la.svd(X, full_matrices=False)\n",
    "    V = V.T\n",
    "    \n",
    "    # Project observations to 2 principal component space\n",
    "    Y_hat = X@V[:,:k]\n",
    "    \n",
    "    # Plot First and second principal components with accompying label\n",
    "    for i, j in zip(set(Y),[\"Setosa\", \"Versicolor\", \"Verginica\"]):\n",
    "        plt.scatter(Y_hat[:,0][Y==i], Y_hat[:,1][Y==i], label = j, s = 4)\n",
    "    plt.xlabel(\"First Component\")\n",
    "    plt.ylabel(\"Second Component\")\n",
    "    plt.suptitle(\"Iris Dataset\")\n",
    "    plt.xlim([-4,4])\n",
    "    plt.ylim([-4,4])\n",
    "    plt.legend()\n",
    "    plt.show()\n",
    "    \n",
    "iris_pca()"
   ]
  },
  {
   "cell_type": "markdown",
   "metadata": {},
   "source": [
    "### Create a pipeline/gridsearch on iris dataset for PCA and random forest classifier"
   ]
  },
  {
   "cell_type": "code",
   "execution_count": 3,
   "metadata": {},
   "outputs": [
    {
     "name": "stdout",
     "output_type": "stream",
     "text": [
      "{'RF__max_depth': 10, 'RF__n_estimators': 50, 'robust__with_centering': True, 'robust__with_scaling': True, 'scaler__with_mean': True, 'scaler__with_std': True}\n",
      "0.9666666666666668\n"
     ]
    }
   ],
   "source": [
    "def PCA_RF():\n",
    "    '''\n",
    "    Create a pipeline and grid search to find the best combination \n",
    "    of PCA truncation and random forest classifier for the iris \n",
    "    dataset. Return the best paramters and score in a tuple. \n",
    "\n",
    "    Returns:\n",
    "    search.best_params_: A dictionary displaying the best parameter discovered from the grid search\n",
    "    search.best_score_: The mean cross-validated score with the best parameters used\n",
    "    ''' \n",
    "    \n",
    "    # Import libraries for pipeline and gridsearch\n",
    "    from sklearn.preprocessing import StandardScaler\n",
    "    from sklearn.preprocessing import RobustScaler\n",
    "    from sklearn.ensemble import RandomForestClassifier\n",
    "    \n",
    "    # Load dataset\n",
    "    X, y = datasets.load_iris(return_X_y=True)\n",
    "\n",
    "    # make a pipeline with 2+ tranformers\n",
    "    pipe = Pipeline([(\"scaler\", StandardScaler()),\n",
    "                     (\"robust\", RobustScaler()),\n",
    "                     (\"RF\", RandomForestClassifier())])\n",
    "\n",
    "    # grid search on the pipeline\n",
    "    pipe_param_grid = {\"scaler__with_mean\":[True, False],\n",
    "                      \"scaler__with_std\": [True, False],\n",
    "                       \"RF__n_estimators\": [50,80,100,120,150],\n",
    "                       \"RF__max_depth\": [10,20,50,100,None],\n",
    "                      \"robust__with_centering\": [True, False],\n",
    "                      \"robust__with_scaling\": [True, False]}\n",
    "\n",
    "    pipe_gs = GridSearchCV(pipe,pipe_param_grid).fit(X, y)\n",
    "\n",
    "    # report hyperparameters of the best estimator\n",
    "    print(pipe_gs.best_params_, pipe_gs.best_score_, sep='\\n')\n",
    "    \n",
    "PCA_RF()"
   ]
  },
  {
   "cell_type": "markdown",
   "metadata": {},
   "source": [
    "## LSI"
   ]
  },
  {
   "cell_type": "markdown",
   "metadata": {},
   "source": [
    "Latent Semantic Indexing (LSI) is an application of PCA which employs the SVD to reduce the\n",
    "dimensionality of a large corpus of text documents in order to enable us to evaluate the similarity\n",
    "between two documents. Many information-retrieval systems used in government and in industry are\n",
    "based on LSI.[<sup>2</sup>](#fn1)"
   ]
  },
  {
   "cell_type": "markdown",
   "metadata": {},
   "source": [
    "### Implement LSI by doing the following:\n",
    "- Create a function that takes in a sparse matrix and index and return the indices of the most similar and least similar documents\n",
    "- Create a function that converts speech documents into an n by m array\n",
    "- Create a function that applies the techniques of LSI and the above functions to a single State of the Union address speech and returns the addresses that are most and least similar to that speech."
   ]
  },
  {
   "cell_type": "code",
   "execution_count": 4,
   "metadata": {
    "id": "_tldnDbWOz1S"
   },
   "outputs": [],
   "source": [
    "def similar(i, Xhat):\n",
    "    \"\"\"\n",
    "    Takes a document and returns the index of\n",
    "    two documents. The one that is the most similar \n",
    "    and the one that is the least similar.\n",
    "    \n",
    "    Parameters:\n",
    "    i index of a document\n",
    "    Xhat decomposed data\n",
    "    \n",
    "    Returns:\n",
    "    index_min: index of the document most similar to document i\n",
    "    index_max: index of the document least similar to document i\n",
    "    \"\"\"\n",
    "\n",
    "    #Initialize to find max and min\n",
    "    similarity_min = np.inf\n",
    "    similarity_max = -np.inf\n",
    "    index_min = 0\n",
    "    index_max = 0\n",
    "    \n",
    "    # Iterate through each row of Xhat\n",
    "    for j in range(Xhat.shape[0]):\n",
    "        \n",
    "        # Find rows not relating to the index\n",
    "        if j != i:\n",
    "            \n",
    "            # Calculate the similarity\n",
    "            numerator = np.dot(Xhat[i,:], Xhat[j,:])\n",
    "            denominator = la.norm(Xhat[i,:]) * la.norm(Xhat[j,:])\n",
    "            similarity = numerator/denominator\n",
    "            \n",
    "            # Update if new min or max\n",
    "            if similarity < similarity_min:\n",
    "                similarity_min = similarity\n",
    "                index_min = j\n",
    "            if similarity > similarity_max:\n",
    "                similarity_max = similarity\n",
    "                index_max = j\n",
    "                \n",
    "    return index_min, index_max\n",
    "    "
   ]
  },
  {
   "cell_type": "code",
   "execution_count": 5,
   "metadata": {
    "id": "7Rv2ENwdOz1T"
   },
   "outputs": [],
   "source": [
    "def document_converter():\n",
    "    '''\n",
    "    Converts speech documents into an n by m array where m is the number \n",
    "    of vocabulary words and n is the number of documents\n",
    "    \n",
    "    Returns:\n",
    "    X sparse matrix (n x m): Each row represents a document\n",
    "    paths (list): list where each element is a speech path eg: path[0] is './Addresses/1990-Bush.txt'\n",
    "    '''\n",
    "    # Get list of filepaths to each text file in the folder.\n",
    "    folder = \"./Addresses/\"\n",
    "    paths = [folder+p for p in os.listdir(folder) if p.endswith(\".txt\")]\n",
    "\n",
    "    # Helper function to get list of words in a string.\n",
    "    def extractWords(text):\n",
    "        ignore = string.punctuation + string.digits\n",
    "        cleaned = \"\".join([t for t in text.strip() if t not in ignore])\n",
    "        return cleaned.lower().split()\n",
    "\n",
    "    # Initialize vocab set, then read each file and add to the vocab set.\n",
    "    vocab = set()\n",
    "    for p in paths:\n",
    "        with open(p, 'r') as infile:\n",
    "            for line in infile:\n",
    "                vocab.update(extractWords(line)) #union sets together\n",
    "\n",
    "\n",
    "    # load stopwords\n",
    "    with open(\"stopwords.txt\", 'r') as f:\n",
    "        stops = set([w.strip().lower() for w in f.readlines()])\n",
    "\n",
    "    # remove stopwords from vocabulary, create ordering\n",
    "    vocab = {w:i for i, w in enumerate(vocab.difference(stops))}\n",
    "\n",
    "\n",
    "    counts = []      # holds the entries of X\n",
    "    doc_index = []   # holds the row index of X\n",
    "    word_index = []  # holds the column index of X\n",
    "\n",
    "    # Iterate through the documents.\n",
    "    for doc, p in enumerate(paths):\n",
    "        with open(p, 'r') as f:\n",
    "            # Create the word counter.\n",
    "            ctr = Counter()\n",
    "            for line in f:\n",
    "                ctr.update(extractWords(line))\n",
    "            # Iterate through the word counter, store counts.\n",
    "            for word, count in ctr.items():\n",
    "                if word in vocab:\n",
    "                    word_index.append(vocab[word])\n",
    "                    counts.append(count)\n",
    "                    doc_index.append(doc)\n",
    "\n",
    "    # Create sparse matrix holding these word counts.\n",
    "    X = sparse.csr_matrix((counts, [doc_index, word_index]),\n",
    "                           shape=(len(paths), len(vocab)), dtype=np.float)\n",
    "    return X, paths"
   ]
  },
  {
   "cell_type": "code",
   "execution_count": 6,
   "metadata": {
    "id": "kUKZCyteOz1V"
   },
   "outputs": [],
   "source": [
    "def LSI_speech(speech, l=7):\n",
    "    \"\"\"\n",
    "    Uses LSI, applied to the word count matrix X, with the first 7 principal\n",
    "    components to find the most similar and least similar speeches\n",
    "\n",
    "    Parameters:\n",
    "        speech str: Path to speech eg: \"./Addresses/1984-Reagan.txt\"\n",
    "        l (int): Number of principal components\n",
    "\n",
    "    Returns:\n",
    "        tuple of str: (Most similar speech, least similar speech)\n",
    "    \"\"\"    \n",
    "    \n",
    "    # Get X and the paths\n",
    "    X, paths = document_converter()\n",
    "    k = min(X.shape)\n",
    "    \n",
    "    # Find index of specific speech\n",
    "    index = paths.index(speech)\n",
    "            \n",
    "    # Calculate Xhat\n",
    "    U, Sig, V = sparse.linalg.svds(X, k = l)\n",
    "    V = V.T\n",
    "    X_hat = U @ np.diag(Sig)\n",
    "    \n",
    "    # Calculate similarities\n",
    "    min_similarity, max_similarity = similar(index, X_hat)\n",
    "    \n",
    "    return paths[max_similarity], paths[min_similarity]"
   ]
  },
  {
   "cell_type": "code",
   "execution_count": 7,
   "metadata": {},
   "outputs": [
    {
     "name": "stdout",
     "output_type": "stream",
     "text": [
      "Speeches most similar and least similar to Reagan's in 1984:\n"
     ]
    },
    {
     "name": "stderr",
     "output_type": "stream",
     "text": [
      "/var/folders/hh/0cgy4n956v3cxdlwkj7hn7zm0000gn/T/ipykernel_29461/4151569478.py:56: DeprecationWarning: `np.float` is a deprecated alias for the builtin `float`. To silence this warning, use `float` by itself. Doing this will not modify any behavior and is safe. If you specifically wanted the numpy scalar type, use `np.float64` here.\n",
      "Deprecated in NumPy 1.20; for more details and guidance: https://numpy.org/devdocs/release/1.20.0-notes.html#deprecations\n",
      "  shape=(len(paths), len(vocab)), dtype=np.float)\n"
     ]
    },
    {
     "data": {
      "text/plain": [
       "('./Addresses/1988-Reagan.txt', './Addresses/1946-Truman.txt')"
      ]
     },
     "execution_count": 7,
     "metadata": {},
     "output_type": "execute_result"
    }
   ],
   "source": [
    "print(\"Speeches most similar and least similar to Reagan's in 1984:\")\n",
    "LSI_speech(\"./Addresses/1984-Reagan.txt\")"
   ]
  },
  {
   "cell_type": "markdown",
   "metadata": {},
   "source": [
    "### Better Application of LSI\n",
    "Note that some words are more important than others. While the above application of LSI simply compares the word usage between speeches, we will now implement a better form of LSI that gives weights to words that are more important. We will then repeat the process done above and compare State of the Union speeches."
   ]
  },
  {
   "cell_type": "code",
   "execution_count": 8,
   "metadata": {
    "id": "pYxnjgFJOz1Y"
   },
   "outputs": [],
   "source": [
    "def weighted_document_converter():\n",
    "    '''\n",
    "    Converts speech documents into an n by m array where m is the number \n",
    "    of vocabulary words and n is the number of documents. It gives weights\n",
    "    to the most important words in the vocabulary.\n",
    "    \n",
    "    Returns:\n",
    "    X sparse matrix (n x m): Each row represents a document\n",
    "    paths (list): list where each element is a speech path eg: path[0] is './Addresses/1990-Bush.txt'\n",
    "    '''\n",
    "    # Get list of filepaths to each text file in the folder.\n",
    "    folder = \"./Addresses/\"\n",
    "    paths = [folder+p for p in os.listdir(folder) if p.endswith(\".txt\")]\n",
    "\n",
    "    # Helper function to get list of words in a string.\n",
    "    def extractWords(text):\n",
    "        ignore = string.punctuation + string.digits\n",
    "        cleaned = \"\".join([t for t in text.strip() if t not in ignore])\n",
    "        return cleaned.lower().split()\n",
    "\n",
    "    # Initialize vocab set, then read each file and add to the vocab set.\n",
    "    vocab = set()\n",
    "    for p in paths:\n",
    "        with open(p, 'r') as infile:\n",
    "            for line in infile:\n",
    "                vocab.update(extractWords(line))\n",
    "\n",
    "\n",
    "    # load stopwords\n",
    "    with open(\"stopwords.txt\", 'r') as f:\n",
    "        stops = set([w.strip().lower() for w in f.readlines()])\n",
    "\n",
    "    # remove stopwords from vocabulary, create ordering\n",
    "    vocab = {w:i for i, w in enumerate(vocab.difference(stops))}\n",
    "\n",
    "    t = np.zeros(len(vocab))\n",
    "    counts = []\n",
    "    doc_index = []\n",
    "    word_index = []\n",
    "\n",
    "    # get doc-term counts and global term counts\n",
    "    for doc, path in enumerate(paths):\n",
    "        with open(path, 'r') as f:\n",
    "            # create the word counter\n",
    "            ctr = Counter()\n",
    "            for line in f:\n",
    "                words = extractWords(line)\n",
    "                ctr.update(words)\n",
    "            # iterate through the word counter, store counts\n",
    "            for word, count in ctr.items():\n",
    "                if word in vocab:\n",
    "                    word_ind = vocab[word]\n",
    "                    word_index.append(word_ind)\n",
    "                    counts.append(count)\n",
    "                    doc_index.append(doc)\n",
    "                    t[word_ind] += count\n",
    "\n",
    "    # Get global weights.\n",
    "    X = sparse.csr_matrix((counts, [doc_index, word_index]),\n",
    "                           shape=(len(paths), len(vocab)), dtype=np.float)\n",
    "\n",
    "    P = X/np.sum(X, axis = 1)\n",
    "    g = np.zeros(X.shape[1])\n",
    "    for j in range(X.shape[1]):\n",
    "        total = 0\n",
    "        for i in range(X.shape[0]):\n",
    "            total += (P[i,j] * np.log(P[i,j] + 1))/np.log(X.shape[0])\n",
    "        g[j] = 1 + total\n",
    "    \n",
    "    A = np.zeros((X.shape))\n",
    "    \n",
    "    for j in range(X.shape[1]):\n",
    "        for i in range(X.shape[0]):\n",
    "            A[i,j] = g[j] * log(X[i,j] + 1)\n",
    "    \n",
    "    return A, paths"
   ]
  },
  {
   "cell_type": "code",
   "execution_count": 9,
   "metadata": {
    "id": "SZfoc_q_Oz1a"
   },
   "outputs": [],
   "source": [
    "def LSI_weighted(speech, l=7):\n",
    "    \"\"\"\n",
    "    Uses LSI, applied to the globally weighted word count matrix A, with the\n",
    "    first 7 principal components to find the most similar and least similar speeches\n",
    "\n",
    "    Parameters:\n",
    "        speech str: Path to speech eg: \"./Addresses/1984-Reagan.txt\"\n",
    "        l (int): Number of principal components\n",
    "\n",
    "    Returns:\n",
    "        tuple of str: (Most similar speech, least similar speech)\n",
    "    \"\"\"\n",
    "    \n",
    "    # Get X and the paths\n",
    "    X, paths = weighted_document_converter()\n",
    "    k = min(X.shape)\n",
    "    \n",
    "        \n",
    "    # Find index of specific speech\n",
    "    index = paths.index(speech)\n",
    "    \n",
    "    # Calculate Xhat using PCA from sklearn\n",
    "    pca = PCA(n_components=l)\n",
    "    X_hat = pca.fit_transform(X)\n",
    "    \n",
    "    # Use similarity function to find most and least similar\n",
    "    min_similarity, max_similarity = similar(index, X_hat)\n",
    "    \n",
    "    return paths[max_similarity], paths[min_similarity]"
   ]
  },
  {
   "cell_type": "code",
   "execution_count": 10,
   "metadata": {
    "id": "YnTBJ16rOz1b",
    "outputId": "76c95555-a1ec-4d7b-d457-e33a7469f09a"
   },
   "outputs": [
    {
     "name": "stdout",
     "output_type": "stream",
     "text": [
      "Speeches most similar and least similar to Clinton's in 1984:\n"
     ]
    },
    {
     "name": "stderr",
     "output_type": "stream",
     "text": [
      "/var/folders/hh/0cgy4n956v3cxdlwkj7hn7zm0000gn/T/ipykernel_29461/1313561867.py:60: DeprecationWarning: `np.float` is a deprecated alias for the builtin `float`. To silence this warning, use `float` by itself. Doing this will not modify any behavior and is safe. If you specifically wanted the numpy scalar type, use `np.float64` here.\n",
      "Deprecated in NumPy 1.20; for more details and guidance: https://numpy.org/devdocs/release/1.20.0-notes.html#deprecations\n",
      "  shape=(len(paths), len(vocab)), dtype=np.float)\n"
     ]
    },
    {
     "data": {
      "text/plain": [
       "('./Addresses/1994-Clinton.txt', './Addresses/1951-Truman.txt')"
      ]
     },
     "execution_count": 10,
     "metadata": {},
     "output_type": "execute_result"
    }
   ],
   "source": [
    "print(\"Speeches most similar and least similar to Clinton's in 1984:\")\n",
    "LSI_weighted(\"./Addresses/1993-Clinton.txt\")"
   ]
  },
  {
   "cell_type": "markdown",
   "metadata": {
    "id": "yeBOl3LhOz1d"
   },
   "source": [
    "## Special Thanks"
   ]
  },
  {
   "cell_type": "markdown",
   "metadata": {},
   "source": [
    "<span id=\"fn1\"> A very special thanks to the Brigham Young University ACME program for their guidance on this project. For further details, please visit https://acme.byu.edu/00000179-afb2-d74f-a3ff-bfbb157b0001/pca19-pdf</span>"
   ]
  }
 ],
 "metadata": {
  "colab": {
   "name": "pca_lsi.ipynb",
   "provenance": []
  },
  "kernelspec": {
   "display_name": "Python 3 (ipykernel)",
   "language": "python",
   "name": "python3"
  },
  "language_info": {
   "codemirror_mode": {
    "name": "ipython",
    "version": 3
   },
   "file_extension": ".py",
   "mimetype": "text/x-python",
   "name": "python",
   "nbconvert_exporter": "python",
   "pygments_lexer": "ipython3",
   "version": "3.9.7"
  }
 },
 "nbformat": 4,
 "nbformat_minor": 1
}
